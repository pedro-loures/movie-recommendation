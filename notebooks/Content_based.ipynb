{
 "cells": [
  {
   "cell_type": "code",
   "execution_count": 1,
   "id": "3e8d79da-6706-46f4-a268-7e694fa9981b",
   "metadata": {},
   "outputs": [
    {
     "name": "stderr",
     "output_type": "stream",
     "text": [
      "/home/edu/miniconda3/envs/AI-ECG/lib/python3.7/site-packages/tqdm/auto.py:22: TqdmWarning: IProgress not found. Please update jupyter and ipywidgets. See https://ipywidgets.readthedocs.io/en/stable/user_install.html\n",
      "  from .autonotebook import tqdm as notebook_tqdm\n"
     ]
    }
   ],
   "source": [
    "import matplotlib.pyplot as plt\n",
    "import numpy as np\n",
    "from sentence_transformers import SentenceTransformer\n",
    "import pandas as pd\n",
    "import seaborn as sns\n",
    "from sklearn.feature_extraction.text import CountVectorizer\n",
    "from sklearn.cluster import KMeans\n",
    "from sklearn.metrics.pairwise import cosine_similarity\n",
    "from sklearn.decomposition import PCA\n",
    "\n",
    "import time"
   ]
  },
  {
   "cell_type": "code",
   "execution_count": 22,
   "id": "4054b7fa-8449-4c58-8ffe-1b89a887fcbb",
   "metadata": {},
   "outputs": [],
   "source": [
    "content = pd.read_json(path_or_buf='../data/content.jsonl',lines=True)\n",
    "content = content[['Genre','Plot','ItemId']]\n",
    "content = content.sort_values(['ItemId'])\n",
    "\n",
    "targets = pd.read_csv(\"../data/targets.csv\")\n",
    "targets = targets.sort_values('UserId')\n",
    "ratings = pd.read_json(path_or_buf='../data/ratings.jsonl',lines=True)"
   ]
  },
  {
   "cell_type": "raw",
   "id": "fa2ea300-e3ff-44ca-9f19-fb6a422bc1b4",
   "metadata": {},
   "source": [
    "users_ids_ratings = ratings['UserId'].unique()\n",
    "users_ids_targets = targets['UserId'].unique()\n",
    "\n",
    "order_users_in_target = [None]*len(targets['UserId'].unique())\n",
    "\n",
    "for i in range(len(users_ids_targets)):\n",
    "    order_users_in_target[i] = np.where(users_ids_ratings == users_ids_targets[i])[0][0]    "
   ]
  },
  {
   "cell_type": "raw",
   "id": "fbd68a0a-5601-4452-a95d-4686c3cebb4b",
   "metadata": {},
   "source": [
    "movies_watched_per_user = [None]*len(users_ids_ratings) # this is encoded in the ratings dataset order\n",
    "\n",
    "last_index = 0\n",
    "aux = ratings['UserId']\n",
    "for i in range(len(users_ids_ratings)):\n",
    "    index = aux.searchsorted(users_ids_ratings[i], side='right')\n",
    "    movies_watched_per_user[i] = (ratings[last_index:index]['ItemId']).values # this is encoded in the targets dataset order\n",
    "    last_index = index"
   ]
  },
  {
   "cell_type": "code",
   "execution_count": 3,
   "id": "8ae21ce1-17d3-4b94-aa7b-f32523d95f68",
   "metadata": {},
   "outputs": [
    {
     "name": "stdout",
     "output_type": "stream",
     "text": [
      "270.04754424095154\n"
     ]
    }
   ],
   "source": [
    "start = time.time()\n",
    "\n",
    "users = targets['UserId'].unique()\n",
    "movies_watched_per_user = [None]*len(users)\n",
    "for i in range(len(users)):\n",
    "    movies_watched_per_user[i] = (ratings[ratings['UserId'] == users[i]]['ItemId']).values \n",
    "\n",
    "print(time.time() - start)"
   ]
  },
  {
   "cell_type": "code",
   "execution_count": 4,
   "id": "69a8bb12-1e1d-4338-b4a9-4cfa1a56f3c5",
   "metadata": {},
   "outputs": [
    {
     "name": "stderr",
     "output_type": "stream",
     "text": [
      "Batches: 100%|██████████████████████████████████████████████████████████████████████| 1188/1188 [15:19<00:00,  1.29it/s]\n"
     ]
    }
   ],
   "source": [
    "text_data = content.to_numpy()\n",
    "model = SentenceTransformer('distilbert-base-nli-mean-tokens')\n",
    "embeddings = model.encode(text_data, show_progress_bar=True)"
   ]
  },
  {
   "cell_type": "code",
   "execution_count": 5,
   "id": "760d3414-b753-4698-b278-14c3136af9ec",
   "metadata": {},
   "outputs": [],
   "source": [
    "cos_sim_data = pd.DataFrame(cosine_similarity(embeddings)) # item simmilarity table"
   ]
  },
  {
   "cell_type": "code",
   "execution_count": 6,
   "id": "3b5d1dbc-a36c-49a9-bc25-5ee1b5a69744",
   "metadata": {},
   "outputs": [],
   "source": [
    "itens_id = content['ItemId'].values"
   ]
  },
  {
   "cell_type": "code",
   "execution_count": 29,
   "id": "99514900-b814-44c1-80c1-d51843f9c933",
   "metadata": {},
   "outputs": [
    {
     "name": "stdout",
     "output_type": "stream",
     "text": [
      "639.4558815956116\n"
     ]
    }
   ],
   "source": [
    "start = time.time()\n",
    "\n",
    "target_users = targets['UserId'].values\n",
    "target_itens = targets['ItemId'].values\n",
    "\n",
    "ratings_final = [None]*len(target_users)\n",
    "\n",
    "last_index = 0\n",
    "start1 = time.time()\n",
    "\n",
    "for i in range(len(users)):\n",
    "    index = target_users.searchsorted(target_users[i], side='right')\n",
    "    target_movies_by_user = target_itens[last_index:index]\n",
    "    #print(target_movies_by_user)\n",
    "    j = last_index\n",
    "    for movie in target_movies_by_user:\n",
    "        index_movie = itens_id.searchsorted(movie, side='right') - 1 \n",
    "        score = 0\n",
    "        \n",
    "        if len(movies_watched_per_user[i]) > 10:\n",
    "            \n",
    "            movie_list = movies_watched_per_user[i][:10]\n",
    "        else:\n",
    "            movie_list = movies_watched_per_user[i]\n",
    "        \n",
    "        for movie_watched in movie_list:\n",
    "            index_movie_watched = itens_id.searchsorted(movie_watched, side='right') - 1 \n",
    "            score += cos_sim_data[index_movie][index_movie_watched]\n",
    "        ratings_final[j] = score\n",
    "        j+=1\n",
    "print(time.time() - start)"
   ]
  },
  {
   "cell_type": "code",
   "execution_count": 19,
   "id": "afd488e8-7923-4a50-8b53-a1916ae83a13",
   "metadata": {},
   "outputs": [],
   "source": [
    "np.save('ratings.npy', np.array(ratings_final))"
   ]
  },
  {
   "cell_type": "code",
   "execution_count": 25,
   "id": "9de87426-38da-4dfe-ba3c-fc42e517bb1b",
   "metadata": {},
   "outputs": [
    {
     "data": {
      "text/html": [
       "<div>\n",
       "<style scoped>\n",
       "    .dataframe tbody tr th:only-of-type {\n",
       "        vertical-align: middle;\n",
       "    }\n",
       "\n",
       "    .dataframe tbody tr th {\n",
       "        vertical-align: top;\n",
       "    }\n",
       "\n",
       "    .dataframe thead th {\n",
       "        text-align: right;\n",
       "    }\n",
       "</style>\n",
       "<table border=\"1\" class=\"dataframe\">\n",
       "  <thead>\n",
       "    <tr style=\"text-align: right;\">\n",
       "      <th></th>\n",
       "      <th>UserId</th>\n",
       "      <th>ItemId</th>\n",
       "      <th>Ratings</th>\n",
       "    </tr>\n",
       "  </thead>\n",
       "  <tbody>\n",
       "    <tr>\n",
       "      <th>0</th>\n",
       "      <td>0006246bee</td>\n",
       "      <td>01d2404d4c</td>\n",
       "      <td>96.015408</td>\n",
       "    </tr>\n",
       "    <tr>\n",
       "      <th>72</th>\n",
       "      <td>0006246bee</td>\n",
       "      <td>cc641b84fe</td>\n",
       "      <td>98.600180</td>\n",
       "    </tr>\n",
       "    <tr>\n",
       "      <th>71</th>\n",
       "      <td>0006246bee</td>\n",
       "      <td>c64177b66b</td>\n",
       "      <td>102.054995</td>\n",
       "    </tr>\n",
       "    <tr>\n",
       "      <th>70</th>\n",
       "      <td>0006246bee</td>\n",
       "      <td>c5388f07fc</td>\n",
       "      <td>100.187000</td>\n",
       "    </tr>\n",
       "    <tr>\n",
       "      <th>69</th>\n",
       "      <td>0006246bee</td>\n",
       "      <td>c1ee6829f5</td>\n",
       "      <td>101.682531</td>\n",
       "    </tr>\n",
       "    <tr>\n",
       "      <th>68</th>\n",
       "      <td>0006246bee</td>\n",
       "      <td>bf95622d07</td>\n",
       "      <td>82.638502</td>\n",
       "    </tr>\n",
       "    <tr>\n",
       "      <th>67</th>\n",
       "      <td>0006246bee</td>\n",
       "      <td>bf6a723c91</td>\n",
       "      <td>101.001041</td>\n",
       "    </tr>\n",
       "    <tr>\n",
       "      <th>66</th>\n",
       "      <td>0006246bee</td>\n",
       "      <td>bb3396574c</td>\n",
       "      <td>99.034706</td>\n",
       "    </tr>\n",
       "    <tr>\n",
       "      <th>65</th>\n",
       "      <td>0006246bee</td>\n",
       "      <td>b804592040</td>\n",
       "      <td>81.654915</td>\n",
       "    </tr>\n",
       "    <tr>\n",
       "      <th>64</th>\n",
       "      <td>0006246bee</td>\n",
       "      <td>b78488f85a</td>\n",
       "      <td>85.462496</td>\n",
       "    </tr>\n",
       "    <tr>\n",
       "      <th>63</th>\n",
       "      <td>0006246bee</td>\n",
       "      <td>b273133e05</td>\n",
       "      <td>98.950861</td>\n",
       "    </tr>\n",
       "    <tr>\n",
       "      <th>62</th>\n",
       "      <td>0006246bee</td>\n",
       "      <td>b119b02f78</td>\n",
       "      <td>95.326526</td>\n",
       "    </tr>\n",
       "    <tr>\n",
       "      <th>61</th>\n",
       "      <td>0006246bee</td>\n",
       "      <td>ae0a0cb272</td>\n",
       "      <td>63.131423</td>\n",
       "    </tr>\n",
       "    <tr>\n",
       "      <th>60</th>\n",
       "      <td>0006246bee</td>\n",
       "      <td>ade4907055</td>\n",
       "      <td>86.322161</td>\n",
       "    </tr>\n",
       "    <tr>\n",
       "      <th>59</th>\n",
       "      <td>0006246bee</td>\n",
       "      <td>aad36aac60</td>\n",
       "      <td>97.152953</td>\n",
       "    </tr>\n",
       "    <tr>\n",
       "      <th>58</th>\n",
       "      <td>0006246bee</td>\n",
       "      <td>9f7c438b9d</td>\n",
       "      <td>103.887197</td>\n",
       "    </tr>\n",
       "    <tr>\n",
       "      <th>57</th>\n",
       "      <td>0006246bee</td>\n",
       "      <td>9783e93459</td>\n",
       "      <td>90.411265</td>\n",
       "    </tr>\n",
       "    <tr>\n",
       "      <th>56</th>\n",
       "      <td>0006246bee</td>\n",
       "      <td>94aa5242b4</td>\n",
       "      <td>101.592134</td>\n",
       "    </tr>\n",
       "    <tr>\n",
       "      <th>55</th>\n",
       "      <td>0006246bee</td>\n",
       "      <td>93cfff69b8</td>\n",
       "      <td>73.644763</td>\n",
       "    </tr>\n",
       "    <tr>\n",
       "      <th>54</th>\n",
       "      <td>0006246bee</td>\n",
       "      <td>9336d9491e</td>\n",
       "      <td>89.476946</td>\n",
       "    </tr>\n",
       "  </tbody>\n",
       "</table>\n",
       "</div>"
      ],
      "text/plain": [
       "        UserId      ItemId     Ratings\n",
       "0   0006246bee  01d2404d4c   96.015408\n",
       "72  0006246bee  cc641b84fe   98.600180\n",
       "71  0006246bee  c64177b66b  102.054995\n",
       "70  0006246bee  c5388f07fc  100.187000\n",
       "69  0006246bee  c1ee6829f5  101.682531\n",
       "68  0006246bee  bf95622d07   82.638502\n",
       "67  0006246bee  bf6a723c91  101.001041\n",
       "66  0006246bee  bb3396574c   99.034706\n",
       "65  0006246bee  b804592040   81.654915\n",
       "64  0006246bee  b78488f85a   85.462496\n",
       "63  0006246bee  b273133e05   98.950861\n",
       "62  0006246bee  b119b02f78   95.326526\n",
       "61  0006246bee  ae0a0cb272   63.131423\n",
       "60  0006246bee  ade4907055   86.322161\n",
       "59  0006246bee  aad36aac60   97.152953\n",
       "58  0006246bee  9f7c438b9d  103.887197\n",
       "57  0006246bee  9783e93459   90.411265\n",
       "56  0006246bee  94aa5242b4  101.592134\n",
       "55  0006246bee  93cfff69b8   73.644763\n",
       "54  0006246bee  9336d9491e   89.476946"
      ]
     },
     "execution_count": 25,
     "metadata": {},
     "output_type": "execute_result"
    }
   ],
   "source": [
    "predictions = targets\n",
    "predictions['Ratings'] = ratings_final\n",
    "predictions.head(20)"
   ]
  },
  {
   "cell_type": "code",
   "execution_count": 24,
   "id": "64e70140-cc32-46e7-8efb-9fbf46c22835",
   "metadata": {},
   "outputs": [
    {
     "name": "stdout",
     "output_type": "stream",
     "text": [
      "submission done\n"
     ]
    }
   ],
   "source": [
    "predictions = pd.DataFrame(data=predictions,columns=['UserId', 'ItemId','Rating'])\n",
    "predictions = predictions.sort_values(['UserId', 'Rating'], ascending=[True, False])\n",
    "ratings = predictions[\"Rating\"]\n",
    "predictions = predictions.drop(\"Rating\",axis=1)\n",
    "\n",
    "predictions.to_csv(\"sub.csv\",index=False)\n",
    "    \n",
    "print(\"submission done\")"
   ]
  },
  {
   "cell_type": "code",
   "execution_count": null,
   "id": "1109e649-b58d-4187-b0d9-3cd73826cc49",
   "metadata": {},
   "outputs": [],
   "source": []
  }
 ],
 "metadata": {
  "kernelspec": {
   "display_name": "Python 3 (ipykernel)",
   "language": "python",
   "name": "python3"
  },
  "language_info": {
   "codemirror_mode": {
    "name": "ipython",
    "version": 3
   },
   "file_extension": ".py",
   "mimetype": "text/x-python",
   "name": "python",
   "nbconvert_exporter": "python",
   "pygments_lexer": "ipython3",
   "version": "3.7.15"
  }
 },
 "nbformat": 4,
 "nbformat_minor": 5
}
