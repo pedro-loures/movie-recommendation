{
 "cells": [
  {
   "cell_type": "code",
   "execution_count": 1,
   "id": "3e8d79da-6706-46f4-a268-7e694fa9981b",
   "metadata": {},
   "outputs": [],
   "source": [
    "import numpy as np\n",
    "import pandas as pd\n",
    "import json\n",
    "import os\n",
    "import math\n",
    "\n",
    "from surprise.prediction_algorithms.matrix_factorization import SVD\n",
    "from surprise.model_selection import train_test_split\n",
    "from surprise import accuracy,Dataset, Reader"
   ]
  },
  {
   "cell_type": "code",
   "execution_count": 2,
   "id": "4054b7fa-8449-4c58-8ffe-1b89a887fcbb",
   "metadata": {},
   "outputs": [
    {
     "name": "stderr",
     "output_type": "stream",
     "text": [
      "/home/edu/miniconda3/envs/AI-ECG/lib/python3.7/site-packages/ipykernel_launcher.py:2: FutureWarning: casting datetime64[ns] values to int64 with .astype(...) is deprecated and will raise in a future version. Use .view(...) instead.\n",
      "  \n"
     ]
    }
   ],
   "source": [
    "ratings = pd.read_json(path_or_buf='../data/ratings.jsonl',lines=True)\n",
    "#ratings['Timestamp'] = pd.to_datetime(ratings['Timestamp']).astype(int)/10**9\n",
    "#ratings['Timestamp'] = ratings['Timestamp']/(10**9)\n"
   ]
  },
  {
   "cell_type": "code",
   "execution_count": 3,
   "id": "3ada2822-44b1-4ea2-b189-d88b5ec6dcbb",
   "metadata": {},
   "outputs": [],
   "source": [
    "reader = Reader(rating_scale=(1, 10))\n",
    "data = Dataset.load_from_df(ratings[['UserId', 'ItemId','Rating']], reader)\n",
    "trainset, testset = train_test_split(data, test_size=0.2)"
   ]
  },
  {
   "cell_type": "code",
   "execution_count": 4,
   "id": "0ae1eea2-62e4-4894-9b6b-fabe0f5aa9c0",
   "metadata": {},
   "outputs": [
    {
     "name": "stdout",
     "output_type": "stream",
     "text": [
      "training done\n"
     ]
    }
   ],
   "source": [
    "model = SVD()\n",
    "model.fit(trainset)\n",
    "print(\"training done\")"
   ]
  },
  {
   "cell_type": "code",
   "execution_count": 5,
   "id": "1758235b-c817-4fbb-8986-c479b63c5303",
   "metadata": {},
   "outputs": [
    {
     "name": "stdout",
     "output_type": "stream",
     "text": [
      "RMSE: 1.5152\n",
      "RMSE do modelo: 1.5152330918343309\n"
     ]
    }
   ],
   "source": [
    "predictions = model.test(testset)\n",
    "print(\"RMSE do modelo: \"+str(accuracy.rmse(predictions)))"
   ]
  },
  {
   "cell_type": "code",
   "execution_count": 6,
   "id": "7619181e-1142-4a6f-bc5f-ef2931da1917",
   "metadata": {},
   "outputs": [],
   "source": [
    "targets = pd.read_csv(\"../data/targets.csv\")\n",
    "targets[\"Rating\"] = np.zeros(len(targets))\n",
    "targets = targets.to_numpy()\n",
    "\n",
    "predictions = model.test(targets)\n",
    "predictions = [[tup.uid,tup.iid,tup.est] for tup in predictions]"
   ]
  },
  {
   "cell_type": "code",
   "execution_count": 7,
   "id": "64e70140-cc32-46e7-8efb-9fbf46c22835",
   "metadata": {},
   "outputs": [
    {
     "name": "stdout",
     "output_type": "stream",
     "text": [
      "submission done\n"
     ]
    }
   ],
   "source": [
    "predictions = pd.DataFrame(data=predictions,columns=['UserId', 'ItemId','Rating'])\n",
    "predictions = predictions.sort_values(['UserId', 'Rating'], ascending=[True, False])\n",
    "ratings = predictions[\"Rating\"]\n",
    "predictions = predictions.drop(\"Rating\",axis=1)\n",
    "\n",
    "predictions.to_csv(\"sub.csv\",index=False)\n",
    "    \n",
    "print(\"submission done\")"
   ]
  },
  {
   "cell_type": "code",
   "execution_count": null,
   "id": "1109e649-b58d-4187-b0d9-3cd73826cc49",
   "metadata": {},
   "outputs": [],
   "source": []
  }
 ],
 "metadata": {
  "kernelspec": {
   "display_name": "Python 3 (ipykernel)",
   "language": "python",
   "name": "python3"
  },
  "language_info": {
   "codemirror_mode": {
    "name": "ipython",
    "version": 3
   },
   "file_extension": ".py",
   "mimetype": "text/x-python",
   "name": "python",
   "nbconvert_exporter": "python",
   "pygments_lexer": "ipython3",
   "version": "3.7.15"
  }
 },
 "nbformat": 4,
 "nbformat_minor": 5
}
