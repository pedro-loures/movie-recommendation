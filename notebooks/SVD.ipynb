{
 "cells": [
  {
   "cell_type": "code",
   "execution_count": 3,
   "id": "3e8d79da-6706-46f4-a268-7e694fa9981b",
   "metadata": {},
   "outputs": [],
   "source": [
    "import json\n",
    "\n",
    "import numpy as np\n",
    "import pandas as pd\n",
    "import json\n",
    "import os\n",
    "import math\n",
    "\n",
    "from surprise.prediction_algorithms.matrix_factorization import SVD\n",
    "from surprise.model_selection import train_test_split\n",
    "from surprise import accuracy,Dataset, Reader\n",
    "from surprise.model_selection import GridSearchCV\n",
    "\n",
    "from util import *"
   ]
  },
  {
   "cell_type": "code",
   "execution_count": 4,
   "id": "ffb1d38b-a28a-40e6-99ee-4d3323b4423f",
   "metadata": {},
   "outputs": [],
   "source": [
    "def build_final_predictions(path):\n",
    "    targets = pd.read_csv(path)\n",
    "    targets[\"Rating\"] = np.zeros(len(targets))\n",
    "    targets = targets.to_numpy()\n",
    "\n",
    "    predictions = algo.test(targets)\n",
    "    predictions_list = [[tup.uid,tup.iid,tup.est] for tup in predictions]\n",
    "    predictions_list = pd.DataFrame(data=predictions_list,columns=['UserId', 'ItemId','Rating'])\n",
    "    predictions_list = predictions_list.sort_values(['UserId', 'Rating'], ascending=[True, False])\n",
    "    ratings = predictions_list[\"Rating\"]\n",
    "    predictions_list = predictions_list.drop(\"Rating\",axis=1)\n",
    "\n",
    "    predictions_list.to_csv(\"sub.csv\",index=False)"
   ]
  },
  {
   "cell_type": "code",
   "execution_count": 10,
   "id": "4054b7fa-8449-4c58-8ffe-1b89a887fcbb",
   "metadata": {},
   "outputs": [
    {
     "name": "stderr",
     "output_type": "stream",
     "text": [
      "/home/edu/miniconda3/envs/AI-ECG/lib/python3.7/site-packages/ipykernel_launcher.py:2: FutureWarning: casting datetime64[ns] values to int64 with .astype(...) is deprecated and will raise in a future version. Use .view(...) instead.\n",
      "  \n"
     ]
    }
   ],
   "source": [
    "jsonObj = pd.read_json(path_or_buf='../data/ratings.jsonl',lines=True)\n",
    "jsonObj['Timestamp'] = pd.to_datetime(jsonObj['Timestamp']).astype(int)/10**9\n",
    "jsonObj['Timestamp'] = jsonObj['Timestamp']/(10**9)\n",
    "jsonObj = jsonObj.sort_values(['Timestamp'])\n"
   ]
  },
  {
   "cell_type": "code",
   "execution_count": 17,
   "id": "53aa98c5-9146-4166-86bd-b2c73c22e3a9",
   "metadata": {},
   "outputs": [
    {
     "data": {
      "text/plain": [
       "65972"
      ]
     },
     "execution_count": 17,
     "metadata": {},
     "output_type": "execute_result"
    }
   ],
   "source": [
    "data_set_list = [None]*10\n",
    "for i in range(10):\n",
    "    data_set_list[i] = jsonObj.iloc[i*65972:(i+1)*65972]"
   ]
  },
  {
   "cell_type": "code",
   "execution_count": null,
   "id": "3ada2822-44b1-4ea2-b189-d88b5ec6dcbb",
   "metadata": {},
   "outputs": [],
   "source": [
    "reader = Reader(rating_scale=(1, 10))\n",
    "data = Dataset.load_from_df(jsonObj[['UserId', 'ItemId','Rating']], reader)\n",
    "trainset, testset = train_test_split(data, test_size=0.2)"
   ]
  },
  {
   "cell_type": "code",
   "execution_count": 7,
   "id": "998a671f-10c6-4550-aee6-5d1253796dbc",
   "metadata": {},
   "outputs": [
    {
     "name": "stdout",
     "output_type": "stream",
     "text": [
      "model loaded\n",
      "training done\n",
      "RMSE: 1.5025\n",
      "RMSE do modelo 1.5024500815889252\n"
     ]
    }
   ],
   "source": [
    "algo = SVD()\n",
    "print(\"model loaded\")\n",
    "\n",
    "algo.fit(trainset)\n",
    "print(\"training done\")\n",
    "\n",
    "predictions = algo.test(testset)\n",
    "print(\"RMSE do modelo \",accuracy.rmse(predictions),sep='')"
   ]
  },
  {
   "cell_type": "code",
   "execution_count": 9,
   "id": "7619181e-1142-4a6f-bc5f-ef2931da1917",
   "metadata": {},
   "outputs": [
    {
     "ename": "NameError",
     "evalue": "name 'algo' is not defined",
     "output_type": "error",
     "traceback": [
      "\u001b[0;31m---------------------------------------------------------------------------\u001b[0m",
      "\u001b[0;31mNameError\u001b[0m                                 Traceback (most recent call last)",
      "\u001b[0;32m/tmp/ipykernel_21342/609477849.py\u001b[0m in \u001b[0;36m<module>\u001b[0;34m\u001b[0m\n\u001b[0;32m----> 1\u001b[0;31m \u001b[0mbuild_final_predictions\u001b[0m\u001b[0;34m(\u001b[0m\u001b[0;34m\"../data/targets.csv\"\u001b[0m\u001b[0;34m)\u001b[0m\u001b[0;34m\u001b[0m\u001b[0;34m\u001b[0m\u001b[0m\n\u001b[0m\u001b[1;32m      2\u001b[0m \u001b[0mprint\u001b[0m\u001b[0;34m(\u001b[0m\u001b[0;34m\"submission done\"\u001b[0m\u001b[0;34m)\u001b[0m\u001b[0;34m\u001b[0m\u001b[0;34m\u001b[0m\u001b[0m\n",
      "\u001b[0;32m/tmp/ipykernel_21342/499005145.py\u001b[0m in \u001b[0;36mbuild_final_predictions\u001b[0;34m(path)\u001b[0m\n\u001b[1;32m      4\u001b[0m     \u001b[0mtargets\u001b[0m \u001b[0;34m=\u001b[0m \u001b[0mtargets\u001b[0m\u001b[0;34m.\u001b[0m\u001b[0mto_numpy\u001b[0m\u001b[0;34m(\u001b[0m\u001b[0;34m)\u001b[0m\u001b[0;34m\u001b[0m\u001b[0;34m\u001b[0m\u001b[0m\n\u001b[1;32m      5\u001b[0m \u001b[0;34m\u001b[0m\u001b[0m\n\u001b[0;32m----> 6\u001b[0;31m     \u001b[0mpredictions\u001b[0m \u001b[0;34m=\u001b[0m \u001b[0malgo\u001b[0m\u001b[0;34m.\u001b[0m\u001b[0mtest\u001b[0m\u001b[0;34m(\u001b[0m\u001b[0mtargets\u001b[0m\u001b[0;34m)\u001b[0m\u001b[0;34m\u001b[0m\u001b[0;34m\u001b[0m\u001b[0m\n\u001b[0m\u001b[1;32m      7\u001b[0m     \u001b[0mpredictions_list\u001b[0m \u001b[0;34m=\u001b[0m \u001b[0;34m[\u001b[0m\u001b[0;34m[\u001b[0m\u001b[0mtup\u001b[0m\u001b[0;34m.\u001b[0m\u001b[0muid\u001b[0m\u001b[0;34m,\u001b[0m\u001b[0mtup\u001b[0m\u001b[0;34m.\u001b[0m\u001b[0miid\u001b[0m\u001b[0;34m,\u001b[0m\u001b[0mtup\u001b[0m\u001b[0;34m.\u001b[0m\u001b[0mest\u001b[0m\u001b[0;34m]\u001b[0m \u001b[0;32mfor\u001b[0m \u001b[0mtup\u001b[0m \u001b[0;32min\u001b[0m \u001b[0mpredictions\u001b[0m\u001b[0;34m]\u001b[0m\u001b[0;34m\u001b[0m\u001b[0;34m\u001b[0m\u001b[0m\n\u001b[1;32m      8\u001b[0m     \u001b[0mpredictions_list\u001b[0m \u001b[0;34m=\u001b[0m \u001b[0mpd\u001b[0m\u001b[0;34m.\u001b[0m\u001b[0mDataFrame\u001b[0m\u001b[0;34m(\u001b[0m\u001b[0mdata\u001b[0m\u001b[0;34m=\u001b[0m\u001b[0mpredictions_list\u001b[0m\u001b[0;34m,\u001b[0m\u001b[0mcolumns\u001b[0m\u001b[0;34m=\u001b[0m\u001b[0;34m[\u001b[0m\u001b[0;34m'UserId'\u001b[0m\u001b[0;34m,\u001b[0m \u001b[0;34m'ItemId'\u001b[0m\u001b[0;34m,\u001b[0m\u001b[0;34m'Rating'\u001b[0m\u001b[0;34m]\u001b[0m\u001b[0;34m)\u001b[0m\u001b[0;34m\u001b[0m\u001b[0;34m\u001b[0m\u001b[0m\n",
      "\u001b[0;31mNameError\u001b[0m: name 'algo' is not defined"
     ]
    }
   ],
   "source": [
    "build_final_predictions(\"../data/targets.csv\")\n",
    "print(\"submission done\")"
   ]
  },
  {
   "cell_type": "code",
   "execution_count": null,
   "id": "64e70140-cc32-46e7-8efb-9fbf46c22835",
   "metadata": {},
   "outputs": [],
   "source": []
  }
 ],
 "metadata": {
  "kernelspec": {
   "display_name": "Python 3 (ipykernel)",
   "language": "python",
   "name": "python3"
  },
  "language_info": {
   "codemirror_mode": {
    "name": "ipython",
    "version": 3
   },
   "file_extension": ".py",
   "mimetype": "text/x-python",
   "name": "python",
   "nbconvert_exporter": "python",
   "pygments_lexer": "ipython3",
   "version": "3.7.15"
  }
 },
 "nbformat": 4,
 "nbformat_minor": 5
}
