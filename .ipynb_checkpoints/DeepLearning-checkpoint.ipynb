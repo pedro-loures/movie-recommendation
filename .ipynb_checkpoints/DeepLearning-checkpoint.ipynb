{
 "cells": [
  {
   "cell_type": "code",
   "execution_count": 5,
   "id": "3e8d79da-6706-46f4-a268-7e694fa9981b",
   "metadata": {},
   "outputs": [],
   "source": [
    "import numpy as np\n",
    "import pandas as pd\n",
    "import json\n",
    "import os\n",
    "import math\n",
    "\n",
    "import torch\n",
    "import torch.nn as nn"
   ]
  },
  {
   "cell_type": "code",
   "execution_count": 6,
   "id": "ffb1d38b-a28a-40e6-99ee-4d3323b4423f",
   "metadata": {},
   "outputs": [],
   "source": [
    "def build_final_predictions(path):\n",
    "    targets = pd.read_csv(path)\n",
    "    targets[\"Rating\"] = np.zeros(len(targets))\n",
    "    targets = targets.to_numpy()\n",
    "\n",
    "    predictions = algo.test(targets)\n",
    "    predictions_list = [[tup.uid,tup.iid,tup.est] for tup in predictions]\n",
    "    predictions_list = pd.DataFrame(data=predictions_list,columns=['UserId', 'ItemId','Rating'])\n",
    "    predictions_list = predictions_list.sort_values(['UserId', 'Rating'], ascending=[True, False])\n",
    "    ratings = predictions_list[\"Rating\"]\n",
    "    predictions_list = predictions_list.drop(\"Rating\",axis=1)\n",
    "\n",
    "    predictions_list.to_csv(\"sub.csv\",index=False)"
   ]
  },
  {
   "cell_type": "code",
   "execution_count": null,
   "id": "29f47c1c-7b4b-4d6d-a808-f7183b109549",
   "metadata": {},
   "outputs": [],
   "source": [
    "def get_data(path):\n",
    "    \n",
    "    jsonObj = pd.read_json(path_or_buf=path,lines=True)\n",
    "    jsonObj['Timestamp'] = pd.to_datetime(jsonObj['Timestamp']).astype(int)/ 10**9\n",
    "    jsonObj['Timestamp'] = jsonObj['Timestamp']/(10**9)\n",
    "    reader = Reader(rating_scale=(1, 10))\n",
    "    data = Dataset.load_from_df(jsonObj[['UserId', 'ItemId','Rating']], reader)\n",
    "    trainset, testset = train_test_split(data, test_size=0.2)\n",
    "    \n",
    "    return data,trainset, testset"
   ]
  },
  {
   "cell_type": "code",
   "execution_count": null,
   "id": "24dc4325-8165-40b1-bacd-628bd001a23b",
   "metadata": {},
   "outputs": [],
   "source": [
    "data,trainset,testset = get_data(\"data/ratings.jsonl\")\n",
    "model = SVD()\n",
    "\n",
    "params = get_best_params(data,model)"
   ]
  },
  {
   "cell_type": "code",
   "execution_count": null,
   "id": "998a671f-10c6-4550-aee6-5d1253796dbc",
   "metadata": {},
   "outputs": [],
   "source": [
    "algo = SVD(n_epochs = params.n_epochs,n_factors = params.n_factors,lr_all = params.lr_all,reg_all = params.reg_all)\n",
    "print(\"model loaded\")\n",
    "\n",
    "algo.fit(trainset)\n",
    "print(\"training done\")\n",
    "\n",
    "predictions = algo.test(testset)\n",
    "print(\"RMSE do modelo \",accuracy.rmse(predictions),sep='')"
   ]
  },
  {
   "cell_type": "code",
   "execution_count": null,
   "id": "7619181e-1142-4a6f-bc5f-ef2931da1917",
   "metadata": {},
   "outputs": [],
   "source": [
    "build_final_predictions(\"data/targets.csv\")\n",
    "print(\"submission done\")"
   ]
  },
  {
   "cell_type": "code",
   "execution_count": null,
   "id": "64e70140-cc32-46e7-8efb-9fbf46c22835",
   "metadata": {},
   "outputs": [],
   "source": []
  }
 ],
 "metadata": {
  "kernelspec": {
   "display_name": "Python 3 (ipykernel)",
   "language": "python",
   "name": "python3"
  },
  "language_info": {
   "codemirror_mode": {
    "name": "ipython",
    "version": 3
   },
   "file_extension": ".py",
   "mimetype": "text/x-python",
   "name": "python",
   "nbconvert_exporter": "python",
   "pygments_lexer": "ipython3",
   "version": "3.7.15"
  }
 },
 "nbformat": 4,
 "nbformat_minor": 5
}
