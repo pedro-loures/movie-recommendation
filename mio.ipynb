{
 "cells": [
  {
   "cell_type": "code",
   "execution_count": 1,
   "id": "c1529506-1171-4482-b3d9-5fa3e3e1a535",
   "metadata": {},
   "outputs": [],
   "source": [
    "import numpy as np\n",
    "import pandas as pd\n",
    "import json\n",
    "import os\n",
    "import math\n",
    "\n",
    "from surprise.prediction_algorithms.matrix_factorization import SVD\n",
    "from surprise.model_selection import train_test_split\n",
    "from surprise import accuracy,Dataset, Reader\n",
    "from surprise.model_selection import GridSearchCV"
   ]
  },
  {
   "cell_type": "code",
   "execution_count": 2,
   "id": "addb37d1-86cb-4845-81e9-7feaaa3fb265",
   "metadata": {},
   "outputs": [],
   "source": [
    "def round_closest(x):\n",
    "    y = math.floor(x)\n",
    "    if x - y >= 0.5:\n",
    "        return math.ceil(x)\n",
    "    else:\n",
    "        return y"
   ]
  },
  {
   "cell_type": "code",
   "execution_count": 4,
   "id": "f0456091-d3cb-47b9-b5da-2b1732552e6b",
   "metadata": {},
   "outputs": [],
   "source": [
    "def get_data(path):\n",
    "    \n",
    "    jsonObj = pd.read_json(path_or_buf=path,lines=True)\n",
    "    #jsonObj['Timestamp'] = pd.to_datetime(jsonObj['Timestamp']).astype(int)/ 10**9\n",
    "    #jsonObj['Timestamp'] = jsonObj['Timestamp']/(10**9)\n",
    "    reader = Reader(rating_scale=(1, 10))\n",
    "    data = Dataset.load_from_df(jsonObj[['UserId', 'ItemId','Rating']], reader)\n",
    "    trainset, testset = train_test_split(data, test_size=0.2)\n",
    "    \n",
    "    return data,trainset, testset"
   ]
  },
  {
   "cell_type": "code",
   "execution_count": 5,
   "id": "7dc24899-f697-4892-8d4a-316f072b27dc",
   "metadata": {},
   "outputs": [],
   "source": [
    "def get_best_params(data,model):\n",
    "    param_grid = {\"n_epochs\": [20, 40], \"n_factors\":[100,200] , \"lr_all\": [0.002, 0.005], \"reg_all\": [0.4, 0.6]}\n",
    "    gs = GridSearchCV(SVD, param_grid, measures=[\"rmse\", \"mae\"], cv=3)\n",
    "\n",
    "    gs.fit(data)\n",
    "    params = gs.best_params[\"rmse\"]\n",
    "\n",
    "    with open('params.txt', 'w') as convert_file:\n",
    "        convert_file.write(json.dumps(params))\n",
    "    \n",
    "    return params"
   ]
  },
  {
   "cell_type": "code",
   "execution_count": 6,
   "id": "f88e8f48-4493-4e61-a77c-52e0761c5a73",
   "metadata": {},
   "outputs": [],
   "source": [
    "def build_final_predictions(path):\n",
    "    targets = pd.read_csv(path)\n",
    "    targets[\"Rating\"] = np.zeros(len(targets))\n",
    "    targets = targets.to_numpy()\n",
    "\n",
    "    predictions = algo.test(targets)\n",
    "    predictions_list = [[tup.uid,tup.iid,tup.est] for tup in predictions]\n",
    "    predictions_list = pd.DataFrame(data=predictions_list,columns=['UserId', 'ItemId','Rating'])\n",
    "    predictions_list = predictions_list.sort_values(['UserId', 'Rating'], ascending=[True, False])\n",
    "    ratings = predictions_list[\"Rating\"]\n",
    "    predictions_list = predictions_list.drop(\"Rating\",axis=1)\n",
    "\n",
    "    predictions_list.to_csv(\"sub.csv\",index=False)"
   ]
  },
  {
   "cell_type": "code",
   "execution_count": 7,
   "id": "2ec566f3-4835-4ce3-982b-63fdfd21553c",
   "metadata": {},
   "outputs": [],
   "source": [
    "data,trainset,testset = get_data(\"ratings.jsonl\")\n",
    "model = SVD()"
   ]
  },
  {
   "cell_type": "code",
   "execution_count": null,
   "id": "54563892-b165-4e55-9071-2cde5ce9bfb7",
   "metadata": {},
   "outputs": [],
   "source": [
    "params = get_best_params(data,model)"
   ]
  },
  {
   "cell_type": "code",
   "execution_count": 9,
   "id": "90dbc11b-9dbd-4059-9d66-fb67f119ea9e",
   "metadata": {},
   "outputs": [
    {
     "name": "stdout",
     "output_type": "stream",
     "text": [
      "RMSE: 1.5223\n",
      "1.522274579214961\n"
     ]
    }
   ],
   "source": [
    "algo = SVD()#(n_epochs = params.n_epochs,n_factors = params.n_factors,lr_all = params.lr_all,reg_all = params.reg_all)\n",
    "\n",
    "algo.fit(trainset)\n",
    "predictions = algo.test(testset)\n",
    "\n",
    "print(accuracy.rmse(predictions))"
   ]
  },
  {
   "cell_type": "code",
   "execution_count": 10,
   "id": "ce38ad4b-5b83-43a6-a45a-def36c3b5e34",
   "metadata": {},
   "outputs": [],
   "source": [
    "build_final_predictions(\"targets.csv\")"
   ]
  },
  {
   "cell_type": "code",
   "execution_count": 10,
   "id": "e8f6aa21-dffb-419f-a1f9-8b3755905211",
   "metadata": {},
   "outputs": [],
   "source": []
  }
 ],
 "metadata": {
  "kernelspec": {
   "display_name": "Python 3 (ipykernel)",
   "language": "python",
   "name": "python3"
  },
  "language_info": {
   "codemirror_mode": {
    "name": "ipython",
    "version": 3
   },
   "file_extension": ".py",
   "mimetype": "text/x-python",
   "name": "python",
   "nbconvert_exporter": "python",
   "pygments_lexer": "ipython3",
   "version": "3.7.15"
  }
 },
 "nbformat": 4,
 "nbformat_minor": 5
}
