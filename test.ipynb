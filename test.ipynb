{
 "cells": [
  {
   "cell_type": "code",
   "execution_count": 1,
   "metadata": {},
   "outputs": [],
   "source": [
    "\n",
    "# Local Imports \n",
    "import recomender.trivial as trivial\n",
    "import recomender.content_based as cbased\n",
    "import recomender.popularity as popularity\n",
    "import recomender.ensamble as ensamble\n",
    "import scripts.util as ut\n",
    "import scripts.evaluate as eval\n",
    "\n",
    "\n",
    "# External Imports\n",
    "import json\n",
    "\n",
    "\n",
    "with open(ut.TARGETS, 'r') as targets_file:\n",
    "  targets_file.readline()\n",
    "  targets = targets_file.readlines()\n",
    "\n",
    "targets = [target[:-1] for target in targets]\n",
    "\n"
   ]
  },
  {
   "cell_type": "markdown",
   "metadata": {},
   "source": [
    "### Trivial Recomendation\n"
   ]
  },
  {
   "cell_type": "markdown",
   "metadata": {},
   "source": [
    "#### Test"
   ]
  },
  {
   "cell_type": "code",
   "execution_count": null,
   "metadata": {},
   "outputs": [],
   "source": [
    "# Separate test and train\n",
    "test, train = ut.read_ratings()\n",
    "\n",
    "# put test in the same recomendation format\n",
    "test_recomendation = eval.test_to_recomendation(test)\n",
    "\n",
    "# Make recommendations\n",
    "recomendation = trivial.trivial_recomendation(train, test[2].keys())\n",
    "\n",
    "# Calculate nDCG\n",
    "eval.discount_cumulative_gain(recomendation, test_recomendation)\n",
    "\n",
    "\n"
   ]
  },
  {
   "cell_type": "markdown",
   "metadata": {},
   "source": [
    "#### Make Submission\n"
   ]
  },
  {
   "cell_type": "code",
   "execution_count": null,
   "metadata": {},
   "outputs": [],
   "source": [
    "# Separate test and train\n",
    "test, train = ut.read_ratings(test_size=0)\n",
    "\n",
    "# Make recommendations\n",
    "recomendation = trivial.trivial_recomendation(train, targets)\n",
    "\n",
    "\n"
   ]
  },
  {
   "cell_type": "markdown",
   "metadata": {},
   "source": [
    "### Trivial Personalized Recomendation\n"
   ]
  },
  {
   "cell_type": "code",
   "execution_count": null,
   "metadata": {},
   "outputs": [],
   "source": [
    "# Separate test and train\n",
    "test, train = ut.read_ratings()\n",
    "\n",
    "# put test in the same recomendation format\n",
    "test_recomendation = eval.test_to_recomendation(test)\n",
    "\n",
    "# Make recommendations\n",
    "recomendation = trivial.trivial_recomendation(train, test[2].keys(),user_mean=True)\n",
    "\n",
    "# Calculate nDCG\n",
    "eval.discount_cumulative_gain(recomendation, test_recomendation)\n",
    "\n"
   ]
  },
  {
   "cell_type": "markdown",
   "metadata": {},
   "source": [
    "### Genre Recommendation\n",
    " "
   ]
  },
  {
   "cell_type": "markdown",
   "metadata": {},
   "source": [
    "#### Basic"
   ]
  },
  {
   "cell_type": "code",
   "execution_count": null,
   "metadata": {},
   "outputs": [],
   "source": [
    "# Read Content\n",
    "content_dict = ut.read_content()\n",
    "\n",
    "# Separate test and train\n",
    "test, train = ut.read_ratings()\n",
    "\n",
    "# put test in the same recomendation format\n",
    "test_recomendation = eval.test_to_recomendation(test)\n",
    "\n",
    "# Create dict with items and dicts\n",
    "genre_dict = cbased.make_genre_dict(train[0], content_dict)\n",
    "\n",
    "# Make Recommendations\n",
    "recomendation = cbased.genre_recomendation(train, test_recomendation, content_dict)\n",
    "\n",
    "# Calculate nDCG\n",
    "eval.discount_cumulative_gain(recomendation, test_recomendation)\n",
    "\n",
    "\n"
   ]
  },
  {
   "cell_type": "markdown",
   "metadata": {},
   "source": [
    "#### Model 2"
   ]
  },
  {
   "cell_type": "code",
   "execution_count": null,
   "metadata": {},
   "outputs": [],
   "source": [
    "# Read Content\n",
    "content_dict = ut.read_content()\n",
    "\n",
    "# Separate test and train\n",
    "test, train = ut.read_ratings()\n",
    "\n",
    "# put test in the same recomendation format\n",
    "test_recomendation = eval.test_to_recomendation(test)\n",
    "\n",
    "# Create dict with items and dicts\n",
    "user_genre_dict = cbased.make_genre_dict(train[0], content_dict)\n",
    "\n",
    "# Organize target\n",
    "target = [key.replace(':',',') for key in test[2].keys() ]\n",
    "\n",
    "\n",
    "# Organize dict\n",
    "user_dict = cbased.make_user_genre_dict(target, user_genre_dict, content_dict)  \n",
    "\n",
    "# Make Recommendation\n",
    "recomendation = cbased.make_recomendation_from_dict(user_dict)\n",
    "\n",
    "recomendation = [value[0] +','+ value[1] + '\\n' for value in recomendation]\n",
    "# Calculate nDCG\n",
    "eval.discount_cumulative_gain(recomendation, test_recomendation)\n",
    "\n"
   ]
  },
  {
   "cell_type": "code",
   "execution_count": null,
   "metadata": {},
   "outputs": [],
   "source": [
    "# Read Content\n",
    "content_dict = ut.read_content()\n",
    "\n",
    "# Separate test and train\n",
    "test, train = ut.read_ratings(test_size=0)\n",
    "\n",
    "# put test in the same recomendation format\n",
    "test_recomendation = eval.test_to_recomendation(test)\n",
    "\n",
    "# Create dict with items and dicts\n",
    "user_genre_dict = cbased.make_genre_dict(train[0], content_dict)\n",
    "\n",
    "# Organize target\n",
    "target = [key.replace(':',',') for key in test[2].keys() ]\n",
    "\n",
    "\n",
    "# Organize dict\n",
    "user_dict = cbased.make_user_genre_dict(targets, user_genre_dict, content_dict)  \n",
    "\n",
    "# Make Recommendation\n",
    "recomendation = cbased.make_recomendation_from_dict(user_dict)\n",
    "\n"
   ]
  },
  {
   "cell_type": "markdown",
   "metadata": {},
   "source": [
    "#### Make Submission"
   ]
  },
  {
   "cell_type": "code",
   "execution_count": null,
   "metadata": {},
   "outputs": [],
   "source": [
    "# Read Content\n",
    "content_dict = ut.read_content()\n",
    "\n",
    "# Separate test and train\n",
    "test, train = ut.read_ratings(test_size=0)\n",
    "\n",
    "# Create dict with items and dicts\n",
    "genre_dict = cbased.make_genre_dict(train[0], content_dict)\n",
    "\n",
    "# Make Recommendations\n",
    "recomendation = cbased.genre_recomendation(train, targets, content_dict)"
   ]
  },
  {
   "cell_type": "markdown",
   "metadata": {},
   "source": [
    "### Popularity recomendation"
   ]
  },
  {
   "cell_type": "markdown",
   "metadata": {},
   "source": [
    "#### Database Popularity"
   ]
  },
  {
   "cell_type": "code",
   "execution_count": null,
   "metadata": {},
   "outputs": [],
   "source": [
    "# Separate test and train\n",
    "test, train = ut.read_ratings()\n",
    "target = [key.replace(':', ',') for key in test[2].keys()]\n",
    "\n",
    "# put test in the same recomendation format\n",
    "test_recomendation = eval.test_to_recomendation(test)\n",
    "\n",
    "movie_popularity = popularity.make_popularity_list(train[2], key='Users')\n",
    "\n",
    "# Make recommendations\n",
    "recomendation = popularity.recomend_popular(train, target, movie_popularity)\n",
    "# Calculate nDCG\n",
    "eval.discount_cumulative_gain(recomendation, test_recomendation)\n",
    "\n"
   ]
  },
  {
   "cell_type": "markdown",
   "metadata": {},
   "source": [
    "##### Make submission\n"
   ]
  },
  {
   "cell_type": "code",
   "execution_count": null,
   "metadata": {},
   "outputs": [],
   "source": [
    "# Separate test and train\n",
    "test, train = ut.read_ratings(test_size=0)\n",
    "\n",
    "# put test in the same recomendation format\n",
    "test_recomendation = eval.test_to_recomendation(test)\n",
    "\n",
    "\n",
    "movie_popularity = popularity.make_popularity_list(train[2], key='Users')\n",
    "# Make recommendations\n",
    "recomendation = popularity.recomend_popular(train, targets)"
   ]
  },
  {
   "cell_type": "markdown",
   "metadata": {},
   "source": [
    "#### Imdb Voting"
   ]
  },
  {
   "cell_type": "code",
   "execution_count": null,
   "metadata": {},
   "outputs": [],
   "source": [
    "# Read Content\n",
    "content_dict = ut.read_content()\n",
    "\n",
    "# Separate test and train\n",
    "test, train = ut.read_ratings()\n",
    "target = [key.replace(':', ',') for key in test[2].keys()]\n",
    "\n",
    "# put test in the same recomendation format\n",
    "test_recomendation = eval.test_to_recomendation(test)\n",
    "\n",
    "movie_popularity = popularity.make_movie_content_list(content_dict, treat_coomma=True)\n",
    "\n",
    "# Make recommendations\n",
    "recomendation = popularity.recomend_popular(train, target, movie_popularity)\n",
    "# Calculate nDCG\n",
    "eval.discount_cumulative_gain(recomendation, test_recomendation)\n",
    "\n"
   ]
  },
  {
   "cell_type": "markdown",
   "metadata": {},
   "source": [
    "##### Make submission"
   ]
  },
  {
   "cell_type": "code",
   "execution_count": null,
   "metadata": {},
   "outputs": [],
   "source": [
    "# Read Content\n",
    "content_dict = ut.read_content()\n",
    "\n",
    "# Separate test and train\n",
    "test, train = ut.read_ratings(test_size=0)\n",
    "target = [key.replace(':', ',') for key in test[2].keys()]\n",
    "\n",
    "# put test in the same recomendation format\n",
    "test_recomendation = eval.test_to_recomendation(test)\n",
    "\n",
    "# put test in the same recomendation format\n",
    "test_recomendation = eval.test_to_recomendation(test)\n",
    "\n",
    "movie_popularity = popularity.make_movie_content_list(content_dict, treat_coomma=True)\n",
    "\n",
    "# Make recommendations\n",
    "recomendation = popularity.recomend_popular(train, targets, movie_popularity)"
   ]
  },
  {
   "cell_type": "markdown",
   "metadata": {},
   "source": [
    "### Ensamble imdb Vote + genres\n"
   ]
  },
  {
   "cell_type": "code",
   "execution_count": 6,
   "metadata": {},
   "outputs": [
    {
     "data": {
      "text/plain": [
       "0.960292103896754"
      ]
     },
     "execution_count": 6,
     "metadata": {},
     "output_type": "execute_result"
    }
   ],
   "source": [
    "# Read Content\n",
    "content_dict = ut.read_content()\n",
    "\n",
    "# Separate test and train\n",
    "test, train = ut.read_ratings()\n",
    "target = [key.replace(':', ',') for key in test[2].keys()]\n",
    "\n",
    "# put test in the same recomendation format\n",
    "test_recomendation = eval.test_to_recomendation(test)\n",
    "\n",
    "# Run Ensamble and return dict\n",
    "ensamble_recommend_dict = ensamble.ensamble1(train, target, content_dict, vote_strengh=4)\n",
    "\n",
    "# Make recomendation from dict\n",
    "recomendation = cbased.make_recomendation_from_dict(ensamble_recommend_dict) \n",
    "\n",
    "# Calculate nDCG\n",
    "recomendation = [value[0] +','+ value[1] + '\\n' for value in recomendation]\n",
    "eval.discount_cumulative_gain(recomendation, test_recomendation)"
   ]
  },
  {
   "cell_type": "markdown",
   "metadata": {},
   "source": [
    "#### Make Submission"
   ]
  },
  {
   "cell_type": "code",
   "execution_count": 9,
   "metadata": {},
   "outputs": [],
   "source": [
    "# Read Content\n",
    "content_dict = ut.read_content()\n",
    "\n",
    "# Separate test and train\n",
    "test, train = ut.read_ratings(test_size=0)\n",
    "\n",
    "# put test in the same recomendation format\n",
    "test_recomendation = eval.test_to_recomendation(test)\n",
    "\n",
    "# Run Ensamble and return dict\n",
    "ensamble_recommend_dict = ensamble.ensamble1(train, targets, content_dict, vote_strengh=50)\n",
    "\n",
    "# Make recomendation from dict\n",
    "recomendation = cbased.make_recomendation_from_dict(ensamble_recommend_dict)"
   ]
  },
  {
   "cell_type": "markdown",
   "metadata": {},
   "source": [
    "# END"
   ]
  },
  {
   "cell_type": "markdown",
   "metadata": {},
   "source": []
  },
  {
   "cell_type": "code",
   "execution_count": null,
   "metadata": {},
   "outputs": [],
   "source": []
  }
 ],
 "metadata": {
  "kernelspec": {
   "display_name": "Python 3.9.12 ('base')",
   "language": "python",
   "name": "python3"
  },
  "language_info": {
   "codemirror_mode": {
    "name": "ipython",
    "version": 3
   },
   "file_extension": ".py",
   "mimetype": "text/x-python",
   "name": "python",
   "nbconvert_exporter": "python",
   "pygments_lexer": "ipython3",
   "version": "3.9.12"
  },
  "orig_nbformat": 4,
  "vscode": {
   "interpreter": {
    "hash": "e2f62cb4564c84f0fc417a0719a1997c26b07566098f1a388516455a2c51c4d3"
   }
  }
 },
 "nbformat": 4,
 "nbformat_minor": 2
}
