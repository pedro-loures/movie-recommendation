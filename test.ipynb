{
 "cells": [
  {
   "cell_type": "code",
   "execution_count": 2,
   "metadata": {},
   "outputs": [
    {
     "ename": "ModuleNotFoundError",
     "evalue": "No module named 'util'",
     "output_type": "error",
     "traceback": [
      "\u001b[1;31m---------------------------------------------------------------------------\u001b[0m",
      "\u001b[1;31mModuleNotFoundError\u001b[0m                       Traceback (most recent call last)",
      "\u001b[1;32mc:\\Users\\PLour\\00_Tudo\\00_GitHub\\RecSys\\movie-recommendation\\test.ipynb Célula: 1\u001b[0m in \u001b[0;36m<cell line: 2>\u001b[1;34m()\u001b[0m\n\u001b[0;32m      <a href='vscode-notebook-cell:/c%3A/Users/PLour/00_Tudo/00_GitHub/RecSys/movie-recommendation/test.ipynb#W0sZmlsZQ%3D%3D?line=0'>1</a>\u001b[0m \u001b[39m# Local Imports \u001b[39;00m\n\u001b[1;32m----> <a href='vscode-notebook-cell:/c%3A/Users/PLour/00_Tudo/00_GitHub/RecSys/movie-recommendation/test.ipynb#W0sZmlsZQ%3D%3D?line=1'>2</a>\u001b[0m \u001b[39mimport\u001b[39;00m \u001b[39mrecomender\u001b[39;00m\u001b[39m.\u001b[39;00m\u001b[39mtrivial\u001b[39;00m \u001b[39mas\u001b[39;00m \u001b[39mtrivial\u001b[39;00m\n\u001b[0;32m      <a href='vscode-notebook-cell:/c%3A/Users/PLour/00_Tudo/00_GitHub/RecSys/movie-recommendation/test.ipynb#W0sZmlsZQ%3D%3D?line=2'>3</a>\u001b[0m \u001b[39mimport\u001b[39;00m \u001b[39mrecomender\u001b[39;00m\u001b[39m.\u001b[39;00m\u001b[39mcontent_based\u001b[39;00m \u001b[39mas\u001b[39;00m \u001b[39mcbased\u001b[39;00m\n\u001b[0;32m      <a href='vscode-notebook-cell:/c%3A/Users/PLour/00_Tudo/00_GitHub/RecSys/movie-recommendation/test.ipynb#W0sZmlsZQ%3D%3D?line=3'>4</a>\u001b[0m \u001b[39mimport\u001b[39;00m \u001b[39mscripts\u001b[39;00m\u001b[39m.\u001b[39;00m\u001b[39mutil\u001b[39;00m \u001b[39mas\u001b[39;00m \u001b[39mut\u001b[39;00m\n",
      "File \u001b[1;32mc:\\Users\\PLour\\00_Tudo\\00_GitHub\\RecSys\\movie-recommendation\\recomender\\trivial.py:7\u001b[0m, in \u001b[0;36m<module>\u001b[1;34m\u001b[0m\n\u001b[0;32m      1\u001b[0m \u001b[39m#TODO LIST\u001b[39;00m\n\u001b[0;32m      2\u001b[0m \u001b[39m#01 OK Trivial Prediction\u001b[39;00m\n\u001b[0;32m      3\u001b[0m \u001b[39m#02 OK Trivial Recommendation\u001b[39;00m\n\u001b[0;32m      4\u001b[0m \n\u001b[0;32m      5\u001b[0m \n\u001b[0;32m      6\u001b[0m \u001b[39m# Local Import\u001b[39;00m\n\u001b[1;32m----> 7\u001b[0m \u001b[39mimport\u001b[39;00m \u001b[39mutil\u001b[39;00m \u001b[39mas\u001b[39;00m \u001b[39mut\u001b[39;00m\n\u001b[0;32m      9\u001b[0m \u001b[39m# External Import\u001b[39;00m\n\u001b[0;32m     10\u001b[0m \u001b[39mfrom\u001b[39;00m \u001b[39moperator\u001b[39;00m \u001b[39mimport\u001b[39;00m itemgetter\n",
      "\u001b[1;31mModuleNotFoundError\u001b[0m: No module named 'util'"
     ]
    }
   ],
   "source": [
    "\n",
    "# Local Imports \n",
    "import recomender.trivial as trivial\n",
    "import recomender.content_based as cbased\n",
    "import scripts.util as ut\n",
    "import scripts.evaluate as eval\n",
    "\n",
    "\n",
    "# External Imports\n",
    "import json\n",
    "\n",
    "\n",
    "with open(ut.TARGETS, 'r') as targets_file:\n",
    "  targets_file.readline()\n",
    "  targets = targets_file.readlines()\n",
    "\n",
    "targets = [target[:-1].replace(',',':') for target in targets]\n"
   ]
  },
  {
   "cell_type": "markdown",
   "metadata": {},
   "source": [
    "### Trivial Recomendation\n"
   ]
  },
  {
   "cell_type": "markdown",
   "metadata": {},
   "source": [
    "#### Test"
   ]
  },
  {
   "cell_type": "code",
   "execution_count": null,
   "metadata": {},
   "outputs": [
    {
     "data": {
      "text/plain": [
       "0.972025629109557"
      ]
     },
     "execution_count": 3,
     "metadata": {},
     "output_type": "execute_result"
    }
   ],
   "source": [
    "# Separate test and train\n",
    "test, train = ut.read_ratings()\n",
    "\n",
    "# put test in the same recomendation format\n",
    "test_recomendation = eval.test_to_recomendation(test)\n",
    "\n",
    "# Make recommendations\n",
    "recomendation = trivial.trivial_recomendation(train, test[2].keys())\n",
    "\n",
    "# Calculate nDCG\n",
    "eval.discount_cumulative_gain(recomendation, test_recomendation)\n",
    "\n",
    "\n"
   ]
  },
  {
   "cell_type": "markdown",
   "metadata": {},
   "source": [
    "#### Make Submission\n"
   ]
  },
  {
   "cell_type": "code",
   "execution_count": null,
   "metadata": {},
   "outputs": [],
   "source": [
    "# Separate test and train\n",
    "test, train = ut.read_ratings(test_size=0)\n",
    "\n",
    "# Make recommendations\n",
    "recomendation = trivial.trivial_recomendation(train, targets)\n",
    "\n",
    "\n"
   ]
  },
  {
   "cell_type": "markdown",
   "metadata": {},
   "source": [
    "### Trivial Personalized Recomendation\n"
   ]
  },
  {
   "cell_type": "code",
   "execution_count": null,
   "metadata": {},
   "outputs": [
    {
     "data": {
      "text/plain": [
       "0.972025629109557"
      ]
     },
     "execution_count": 5,
     "metadata": {},
     "output_type": "execute_result"
    }
   ],
   "source": [
    "# Separate test and train\n",
    "test, train = ut.read_ratings()\n",
    "\n",
    "# put test in the same recomendation format\n",
    "test_recomendation = eval.test_to_recomendation(test)\n",
    "\n",
    "# Make recommendations\n",
    "recomendation = trivial.trivial_recomendation(train, test[2].keys(),user_mean=True)\n",
    "\n",
    "# Calculate nDCG\n",
    "eval.discount_cumulative_gain(recomendation, test_recomendation)\n",
    "\n"
   ]
  },
  {
   "cell_type": "markdown",
   "metadata": {},
   "source": [
    "### Basic Genre Recommendation\n",
    " "
   ]
  },
  {
   "cell_type": "code",
   "execution_count": null,
   "metadata": {},
   "outputs": [
    {
     "ename": "AttributeError",
     "evalue": "module 'util' has no attribute 'read_content'",
     "output_type": "error",
     "traceback": [
      "\u001b[1;31m---------------------------------------------------------------------------\u001b[0m",
      "\u001b[1;31mAttributeError\u001b[0m                            Traceback (most recent call last)",
      "\u001b[1;32mc:\\Users\\PLour\\00_Tudo\\00_GitHub\\RecSys\\movie-recommendation\\test.ipynb Célula: 10\u001b[0m in \u001b[0;36m<cell line: 2>\u001b[1;34m()\u001b[0m\n\u001b[0;32m      <a href='vscode-notebook-cell:/c%3A/Users/PLour/00_Tudo/00_GitHub/RecSys/movie-recommendation/test.ipynb#X11sZmlsZQ%3D%3D?line=0'>1</a>\u001b[0m \u001b[39m# Read Content\u001b[39;00m\n\u001b[1;32m----> <a href='vscode-notebook-cell:/c%3A/Users/PLour/00_Tudo/00_GitHub/RecSys/movie-recommendation/test.ipynb#X11sZmlsZQ%3D%3D?line=1'>2</a>\u001b[0m content_dict \u001b[39m=\u001b[39m ut\u001b[39m.\u001b[39;49mread_content()\n\u001b[0;32m      <a href='vscode-notebook-cell:/c%3A/Users/PLour/00_Tudo/00_GitHub/RecSys/movie-recommendation/test.ipynb#X11sZmlsZQ%3D%3D?line=3'>4</a>\u001b[0m \u001b[39m# Separate test and train\u001b[39;00m\n\u001b[0;32m      <a href='vscode-notebook-cell:/c%3A/Users/PLour/00_Tudo/00_GitHub/RecSys/movie-recommendation/test.ipynb#X11sZmlsZQ%3D%3D?line=4'>5</a>\u001b[0m test, train \u001b[39m=\u001b[39m ut\u001b[39m.\u001b[39mread_ratings()\n",
      "\u001b[1;31mAttributeError\u001b[0m: module 'util' has no attribute 'read_content'"
     ]
    }
   ],
   "source": [
    "# Read Content\n",
    "content_dict = ut.read_content()\n",
    "\n",
    "# Separate test and train\n",
    "test, train = ut.read_ratings()\n",
    "\n",
    "# put test in the same recomendation format\n",
    "test_recomendation = eval.test_to_recomendation(test)\n",
    "\n",
    "# Create dict with items and dicts\n",
    "genre_dict = cbased.make_genre_dict(train[0], content_dict)\n",
    "\n",
    "# Make Recommendations\n",
    "recomendation = cbased.genre_recomendation(train, test_recomendation, content_dict)\n",
    "\n",
    "# Calculate nDCG\n",
    "eval.discount_cumulative_gain(recomendation, test_recomendation)\n",
    "\n",
    "\n"
   ]
  },
  {
   "cell_type": "code",
   "execution_count": null,
   "metadata": {},
   "outputs": [],
   "source": []
  }
 ],
 "metadata": {
  "kernelspec": {
   "display_name": "Python 3.9.12 ('base')",
   "language": "python",
   "name": "python3"
  },
  "language_info": {
   "codemirror_mode": {
    "name": "ipython",
    "version": 3
   },
   "file_extension": ".py",
   "mimetype": "text/x-python",
   "name": "python",
   "nbconvert_exporter": "python",
   "pygments_lexer": "ipython3",
   "version": "3.9.12"
  },
  "orig_nbformat": 4,
  "vscode": {
   "interpreter": {
    "hash": "e2f62cb4564c84f0fc417a0719a1997c26b07566098f1a388516455a2c51c4d3"
   }
  }
 },
 "nbformat": 4,
 "nbformat_minor": 2
}
